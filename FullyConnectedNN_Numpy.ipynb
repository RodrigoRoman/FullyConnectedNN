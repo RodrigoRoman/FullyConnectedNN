{
  "cells": [
    {
      "cell_type": "markdown",
      "metadata": {
        "id": "view-in-github",
        "colab_type": "text"
      },
      "source": [
        "<a href=\"https://colab.research.google.com/github/RodrigoRoman/FullyConnectedNN/blob/main/FullyConnectedNN_Numpy.ipynb\" target=\"_parent\"><img src=\"https://colab.research.google.com/assets/colab-badge.svg\" alt=\"Open In Colab\"/></a>"
      ]
    },
    {
      "cell_type": "markdown",
      "metadata": {
        "id": "0HoIH1lEkDNy"
      },
      "source": [
        "\n",
        "## Deep Learning\n",
        "## Fully Connected Deep Neural Networks\n",
        "\n",
        "#### Implementation of a Fully Connected Network for Kaggle ASL Dataset\n",
        "\n",
        "- Objective\n",
        "\n",
        "This is the implementation of a multilayer network for the [Kaggle ASL (American Sign Language) dataset](https://www.kaggle.com/datasets/grassknoted/asl-alphabet).\n",
        "\n",
        "The code is exclusively implemented using NumPy, aiming to provide a transparent and illustrative implementation of a deep fully connected neural network. This implementation serves as a valuable educational resource for understanding the inner workings of neural networks, showcasing concepts like forward and backward propagation, weight initialization, activation functions, and gradient descent optimization. It is designed to demystify the intricate details of neural network operations and empower learners with a solid foundation in deep learning.\n"
      ]
    },
    {
      "cell_type": "code",
      "execution_count": 99,
      "metadata": {
        "colab": {
          "base_uri": "https://localhost:8080/"
        },
        "id": "ylZk3d7CkDN0",
        "outputId": "a9d985f1-6971-4a78-8a8e-674f48b09340"
      },
      "outputs": [
        {
          "output_type": "stream",
          "name": "stdout",
          "text": [
            "The autoreload extension is already loaded. To reload it, use:\n",
            "  %reload_ext autoreload\n"
          ]
        }
      ],
      "source": [
        "import numpy as np\n",
        "import string\n",
        "import pandas as pd\n",
        "import matplotlib.pyplot as plt\n",
        "import cv2 as cv\n",
        "import os\n",
        "\n",
        "%load_ext autoreload\n",
        "%autoreload 2\n",
        "#################################\n",
        "%matplotlib inline\n"
      ]
    },
    {
      "cell_type": "markdown",
      "source": [
        "Get the path to the datasets"
      ],
      "metadata": {
        "id": "pq4W2WdWmMUD"
      }
    },
    {
      "cell_type": "code",
      "execution_count": 100,
      "metadata": {
        "colab": {
          "base_uri": "https://localhost:8080/"
        },
        "id": "QY9f5VLXkDN0",
        "outputId": "15d8dc6a-33f0-4132-f4c6-2708ff9eb145"
      },
      "outputs": [
        {
          "output_type": "stream",
          "name": "stdout",
          "text": [
            "Drive already mounted at /content/drive; to attempt to forcibly remount, call drive.mount(\"/content/drive\", force_remount=True).\n"
          ]
        }
      ],
      "source": [
        "from google.colab import drive\n",
        "\n",
        "drive.mount('/content/drive')"
      ]
    },
    {
      "cell_type": "markdown",
      "source": [
        "#Load the data"
      ],
      "metadata": {
        "id": "TgLc7kjGoOPU"
      }
    },
    {
      "cell_type": "code",
      "source": [
        "\n",
        "asl_path = '/content/drive/My Drive/asl_data'\n",
        "train_df = pd.read_csv(os.path.join(asl_path, 'sign_mnist_train.csv'))\n",
        "valid_df = pd.read_csv(os.path.join(asl_path, 'sign_mnist_valid.csv'))\n"
      ],
      "metadata": {
        "id": "MTvbgY8doQQ2"
      },
      "execution_count": 101,
      "outputs": []
    },
    {
      "cell_type": "code",
      "execution_count": 102,
      "metadata": {
        "colab": {
          "base_uri": "https://localhost:8080/",
          "height": 236
        },
        "id": "ddSDDj5ukDN1",
        "outputId": "0fc8f1a5-ef6c-42de-c357-427e81cf1510"
      },
      "outputs": [
        {
          "output_type": "execute_result",
          "data": {
            "text/plain": [
              "   label  pixel1  pixel2  pixel3  pixel4  pixel5  pixel6  pixel7  pixel8  \\\n",
              "0      3     107     118     127     134     139     143     146     150   \n",
              "1      6     155     157     156     156     156     157     156     158   \n",
              "2      2     187     188     188     187     187     186     187     188   \n",
              "3      2     211     211     212     212     211     210     211     210   \n",
              "4     12     164     167     170     172     176     179     180     184   \n",
              "\n",
              "   pixel9  ...  pixel775  pixel776  pixel777  pixel778  pixel779  pixel780  \\\n",
              "0     153  ...       207       207       207       207       206       206   \n",
              "1     158  ...        69       149       128        87        94       163   \n",
              "2     187  ...       202       201       200       199       198       199   \n",
              "3     210  ...       235       234       233       231       230       226   \n",
              "4     185  ...        92       105       105       108       133       163   \n",
              "\n",
              "   pixel781  pixel782  pixel783  pixel784  \n",
              "0       206       204       203       202  \n",
              "1       175       103       135       149  \n",
              "2       198       195       194       195  \n",
              "3       225       222       229       163  \n",
              "4       157       163       164       179  \n",
              "\n",
              "[5 rows x 785 columns]"
            ],
            "text/html": [
              "\n",
              "  <div id=\"df-9059ef87-226b-40d3-b6ff-93ffb669040c\" class=\"colab-df-container\">\n",
              "    <div>\n",
              "<style scoped>\n",
              "    .dataframe tbody tr th:only-of-type {\n",
              "        vertical-align: middle;\n",
              "    }\n",
              "\n",
              "    .dataframe tbody tr th {\n",
              "        vertical-align: top;\n",
              "    }\n",
              "\n",
              "    .dataframe thead th {\n",
              "        text-align: right;\n",
              "    }\n",
              "</style>\n",
              "<table border=\"1\" class=\"dataframe\">\n",
              "  <thead>\n",
              "    <tr style=\"text-align: right;\">\n",
              "      <th></th>\n",
              "      <th>label</th>\n",
              "      <th>pixel1</th>\n",
              "      <th>pixel2</th>\n",
              "      <th>pixel3</th>\n",
              "      <th>pixel4</th>\n",
              "      <th>pixel5</th>\n",
              "      <th>pixel6</th>\n",
              "      <th>pixel7</th>\n",
              "      <th>pixel8</th>\n",
              "      <th>pixel9</th>\n",
              "      <th>...</th>\n",
              "      <th>pixel775</th>\n",
              "      <th>pixel776</th>\n",
              "      <th>pixel777</th>\n",
              "      <th>pixel778</th>\n",
              "      <th>pixel779</th>\n",
              "      <th>pixel780</th>\n",
              "      <th>pixel781</th>\n",
              "      <th>pixel782</th>\n",
              "      <th>pixel783</th>\n",
              "      <th>pixel784</th>\n",
              "    </tr>\n",
              "  </thead>\n",
              "  <tbody>\n",
              "    <tr>\n",
              "      <th>0</th>\n",
              "      <td>3</td>\n",
              "      <td>107</td>\n",
              "      <td>118</td>\n",
              "      <td>127</td>\n",
              "      <td>134</td>\n",
              "      <td>139</td>\n",
              "      <td>143</td>\n",
              "      <td>146</td>\n",
              "      <td>150</td>\n",
              "      <td>153</td>\n",
              "      <td>...</td>\n",
              "      <td>207</td>\n",
              "      <td>207</td>\n",
              "      <td>207</td>\n",
              "      <td>207</td>\n",
              "      <td>206</td>\n",
              "      <td>206</td>\n",
              "      <td>206</td>\n",
              "      <td>204</td>\n",
              "      <td>203</td>\n",
              "      <td>202</td>\n",
              "    </tr>\n",
              "    <tr>\n",
              "      <th>1</th>\n",
              "      <td>6</td>\n",
              "      <td>155</td>\n",
              "      <td>157</td>\n",
              "      <td>156</td>\n",
              "      <td>156</td>\n",
              "      <td>156</td>\n",
              "      <td>157</td>\n",
              "      <td>156</td>\n",
              "      <td>158</td>\n",
              "      <td>158</td>\n",
              "      <td>...</td>\n",
              "      <td>69</td>\n",
              "      <td>149</td>\n",
              "      <td>128</td>\n",
              "      <td>87</td>\n",
              "      <td>94</td>\n",
              "      <td>163</td>\n",
              "      <td>175</td>\n",
              "      <td>103</td>\n",
              "      <td>135</td>\n",
              "      <td>149</td>\n",
              "    </tr>\n",
              "    <tr>\n",
              "      <th>2</th>\n",
              "      <td>2</td>\n",
              "      <td>187</td>\n",
              "      <td>188</td>\n",
              "      <td>188</td>\n",
              "      <td>187</td>\n",
              "      <td>187</td>\n",
              "      <td>186</td>\n",
              "      <td>187</td>\n",
              "      <td>188</td>\n",
              "      <td>187</td>\n",
              "      <td>...</td>\n",
              "      <td>202</td>\n",
              "      <td>201</td>\n",
              "      <td>200</td>\n",
              "      <td>199</td>\n",
              "      <td>198</td>\n",
              "      <td>199</td>\n",
              "      <td>198</td>\n",
              "      <td>195</td>\n",
              "      <td>194</td>\n",
              "      <td>195</td>\n",
              "    </tr>\n",
              "    <tr>\n",
              "      <th>3</th>\n",
              "      <td>2</td>\n",
              "      <td>211</td>\n",
              "      <td>211</td>\n",
              "      <td>212</td>\n",
              "      <td>212</td>\n",
              "      <td>211</td>\n",
              "      <td>210</td>\n",
              "      <td>211</td>\n",
              "      <td>210</td>\n",
              "      <td>210</td>\n",
              "      <td>...</td>\n",
              "      <td>235</td>\n",
              "      <td>234</td>\n",
              "      <td>233</td>\n",
              "      <td>231</td>\n",
              "      <td>230</td>\n",
              "      <td>226</td>\n",
              "      <td>225</td>\n",
              "      <td>222</td>\n",
              "      <td>229</td>\n",
              "      <td>163</td>\n",
              "    </tr>\n",
              "    <tr>\n",
              "      <th>4</th>\n",
              "      <td>12</td>\n",
              "      <td>164</td>\n",
              "      <td>167</td>\n",
              "      <td>170</td>\n",
              "      <td>172</td>\n",
              "      <td>176</td>\n",
              "      <td>179</td>\n",
              "      <td>180</td>\n",
              "      <td>184</td>\n",
              "      <td>185</td>\n",
              "      <td>...</td>\n",
              "      <td>92</td>\n",
              "      <td>105</td>\n",
              "      <td>105</td>\n",
              "      <td>108</td>\n",
              "      <td>133</td>\n",
              "      <td>163</td>\n",
              "      <td>157</td>\n",
              "      <td>163</td>\n",
              "      <td>164</td>\n",
              "      <td>179</td>\n",
              "    </tr>\n",
              "  </tbody>\n",
              "</table>\n",
              "<p>5 rows × 785 columns</p>\n",
              "</div>\n",
              "    <div class=\"colab-df-buttons\">\n",
              "\n",
              "  <div class=\"colab-df-container\">\n",
              "    <button class=\"colab-df-convert\" onclick=\"convertToInteractive('df-9059ef87-226b-40d3-b6ff-93ffb669040c')\"\n",
              "            title=\"Convert this dataframe to an interactive table.\"\n",
              "            style=\"display:none;\">\n",
              "\n",
              "  <svg xmlns=\"http://www.w3.org/2000/svg\" height=\"24px\" viewBox=\"0 -960 960 960\">\n",
              "    <path d=\"M120-120v-720h720v720H120Zm60-500h600v-160H180v160Zm220 220h160v-160H400v160Zm0 220h160v-160H400v160ZM180-400h160v-160H180v160Zm440 0h160v-160H620v160ZM180-180h160v-160H180v160Zm440 0h160v-160H620v160Z\"/>\n",
              "  </svg>\n",
              "    </button>\n",
              "\n",
              "  <style>\n",
              "    .colab-df-container {\n",
              "      display:flex;\n",
              "      gap: 12px;\n",
              "    }\n",
              "\n",
              "    .colab-df-convert {\n",
              "      background-color: #E8F0FE;\n",
              "      border: none;\n",
              "      border-radius: 50%;\n",
              "      cursor: pointer;\n",
              "      display: none;\n",
              "      fill: #1967D2;\n",
              "      height: 32px;\n",
              "      padding: 0 0 0 0;\n",
              "      width: 32px;\n",
              "    }\n",
              "\n",
              "    .colab-df-convert:hover {\n",
              "      background-color: #E2EBFA;\n",
              "      box-shadow: 0px 1px 2px rgba(60, 64, 67, 0.3), 0px 1px 3px 1px rgba(60, 64, 67, 0.15);\n",
              "      fill: #174EA6;\n",
              "    }\n",
              "\n",
              "    .colab-df-buttons div {\n",
              "      margin-bottom: 4px;\n",
              "    }\n",
              "\n",
              "    [theme=dark] .colab-df-convert {\n",
              "      background-color: #3B4455;\n",
              "      fill: #D2E3FC;\n",
              "    }\n",
              "\n",
              "    [theme=dark] .colab-df-convert:hover {\n",
              "      background-color: #434B5C;\n",
              "      box-shadow: 0px 1px 3px 1px rgba(0, 0, 0, 0.15);\n",
              "      filter: drop-shadow(0px 1px 2px rgba(0, 0, 0, 0.3));\n",
              "      fill: #FFFFFF;\n",
              "    }\n",
              "  </style>\n",
              "\n",
              "    <script>\n",
              "      const buttonEl =\n",
              "        document.querySelector('#df-9059ef87-226b-40d3-b6ff-93ffb669040c button.colab-df-convert');\n",
              "      buttonEl.style.display =\n",
              "        google.colab.kernel.accessAllowed ? 'block' : 'none';\n",
              "\n",
              "      async function convertToInteractive(key) {\n",
              "        const element = document.querySelector('#df-9059ef87-226b-40d3-b6ff-93ffb669040c');\n",
              "        const dataTable =\n",
              "          await google.colab.kernel.invokeFunction('convertToInteractive',\n",
              "                                                    [key], {});\n",
              "        if (!dataTable) return;\n",
              "\n",
              "        const docLinkHtml = 'Like what you see? Visit the ' +\n",
              "          '<a target=\"_blank\" href=https://colab.research.google.com/notebooks/data_table.ipynb>data table notebook</a>'\n",
              "          + ' to learn more about interactive tables.';\n",
              "        element.innerHTML = '';\n",
              "        dataTable['output_type'] = 'display_data';\n",
              "        await google.colab.output.renderOutput(dataTable, element);\n",
              "        const docLink = document.createElement('div');\n",
              "        docLink.innerHTML = docLinkHtml;\n",
              "        element.appendChild(docLink);\n",
              "      }\n",
              "    </script>\n",
              "  </div>\n",
              "\n",
              "\n",
              "<div id=\"df-fe1ea5db-53f6-4637-9017-83a2ae9f9fef\">\n",
              "  <button class=\"colab-df-quickchart\" onclick=\"quickchart('df-fe1ea5db-53f6-4637-9017-83a2ae9f9fef')\"\n",
              "            title=\"Suggest charts.\"\n",
              "            style=\"display:none;\">\n",
              "\n",
              "<svg xmlns=\"http://www.w3.org/2000/svg\" height=\"24px\"viewBox=\"0 0 24 24\"\n",
              "     width=\"24px\">\n",
              "    <g>\n",
              "        <path d=\"M19 3H5c-1.1 0-2 .9-2 2v14c0 1.1.9 2 2 2h14c1.1 0 2-.9 2-2V5c0-1.1-.9-2-2-2zM9 17H7v-7h2v7zm4 0h-2V7h2v10zm4 0h-2v-4h2v4z\"/>\n",
              "    </g>\n",
              "</svg>\n",
              "  </button>\n",
              "\n",
              "<style>\n",
              "  .colab-df-quickchart {\n",
              "      --bg-color: #E8F0FE;\n",
              "      --fill-color: #1967D2;\n",
              "      --hover-bg-color: #E2EBFA;\n",
              "      --hover-fill-color: #174EA6;\n",
              "      --disabled-fill-color: #AAA;\n",
              "      --disabled-bg-color: #DDD;\n",
              "  }\n",
              "\n",
              "  [theme=dark] .colab-df-quickchart {\n",
              "      --bg-color: #3B4455;\n",
              "      --fill-color: #D2E3FC;\n",
              "      --hover-bg-color: #434B5C;\n",
              "      --hover-fill-color: #FFFFFF;\n",
              "      --disabled-bg-color: #3B4455;\n",
              "      --disabled-fill-color: #666;\n",
              "  }\n",
              "\n",
              "  .colab-df-quickchart {\n",
              "    background-color: var(--bg-color);\n",
              "    border: none;\n",
              "    border-radius: 50%;\n",
              "    cursor: pointer;\n",
              "    display: none;\n",
              "    fill: var(--fill-color);\n",
              "    height: 32px;\n",
              "    padding: 0;\n",
              "    width: 32px;\n",
              "  }\n",
              "\n",
              "  .colab-df-quickchart:hover {\n",
              "    background-color: var(--hover-bg-color);\n",
              "    box-shadow: 0 1px 2px rgba(60, 64, 67, 0.3), 0 1px 3px 1px rgba(60, 64, 67, 0.15);\n",
              "    fill: var(--button-hover-fill-color);\n",
              "  }\n",
              "\n",
              "  .colab-df-quickchart-complete:disabled,\n",
              "  .colab-df-quickchart-complete:disabled:hover {\n",
              "    background-color: var(--disabled-bg-color);\n",
              "    fill: var(--disabled-fill-color);\n",
              "    box-shadow: none;\n",
              "  }\n",
              "\n",
              "  .colab-df-spinner {\n",
              "    border: 2px solid var(--fill-color);\n",
              "    border-color: transparent;\n",
              "    border-bottom-color: var(--fill-color);\n",
              "    animation:\n",
              "      spin 1s steps(1) infinite;\n",
              "  }\n",
              "\n",
              "  @keyframes spin {\n",
              "    0% {\n",
              "      border-color: transparent;\n",
              "      border-bottom-color: var(--fill-color);\n",
              "      border-left-color: var(--fill-color);\n",
              "    }\n",
              "    20% {\n",
              "      border-color: transparent;\n",
              "      border-left-color: var(--fill-color);\n",
              "      border-top-color: var(--fill-color);\n",
              "    }\n",
              "    30% {\n",
              "      border-color: transparent;\n",
              "      border-left-color: var(--fill-color);\n",
              "      border-top-color: var(--fill-color);\n",
              "      border-right-color: var(--fill-color);\n",
              "    }\n",
              "    40% {\n",
              "      border-color: transparent;\n",
              "      border-right-color: var(--fill-color);\n",
              "      border-top-color: var(--fill-color);\n",
              "    }\n",
              "    60% {\n",
              "      border-color: transparent;\n",
              "      border-right-color: var(--fill-color);\n",
              "    }\n",
              "    80% {\n",
              "      border-color: transparent;\n",
              "      border-right-color: var(--fill-color);\n",
              "      border-bottom-color: var(--fill-color);\n",
              "    }\n",
              "    90% {\n",
              "      border-color: transparent;\n",
              "      border-bottom-color: var(--fill-color);\n",
              "    }\n",
              "  }\n",
              "</style>\n",
              "\n",
              "  <script>\n",
              "    async function quickchart(key) {\n",
              "      const quickchartButtonEl =\n",
              "        document.querySelector('#' + key + ' button');\n",
              "      quickchartButtonEl.disabled = true;  // To prevent multiple clicks.\n",
              "      quickchartButtonEl.classList.add('colab-df-spinner');\n",
              "      try {\n",
              "        const charts = await google.colab.kernel.invokeFunction(\n",
              "            'suggestCharts', [key], {});\n",
              "      } catch (error) {\n",
              "        console.error('Error during call to suggestCharts:', error);\n",
              "      }\n",
              "      quickchartButtonEl.classList.remove('colab-df-spinner');\n",
              "      quickchartButtonEl.classList.add('colab-df-quickchart-complete');\n",
              "    }\n",
              "    (() => {\n",
              "      let quickchartButtonEl =\n",
              "        document.querySelector('#df-fe1ea5db-53f6-4637-9017-83a2ae9f9fef button');\n",
              "      quickchartButtonEl.style.display =\n",
              "        google.colab.kernel.accessAllowed ? 'block' : 'none';\n",
              "    })();\n",
              "  </script>\n",
              "</div>\n",
              "    </div>\n",
              "  </div>\n"
            ]
          },
          "metadata": {},
          "execution_count": 102
        }
      ],
      "source": [
        "train_df.head()"
      ]
    },
    {
      "cell_type": "markdown",
      "metadata": {
        "id": "wtyIlhJQkDN1"
      },
      "source": [
        "# Import images"
      ]
    },
    {
      "cell_type": "code",
      "execution_count": 103,
      "metadata": {
        "id": "eSPU8rz9kDN1"
      },
      "outputs": [],
      "source": [
        "y_train = np.array(train_df['label'])\n",
        "y_val = np.array(valid_df['label'])\n",
        "del train_df['label']\n",
        "del valid_df['label']\n",
        "x_train = train_df.values.astype(np.float32)\n",
        "x_val = valid_df.values.astype(np.float32)"
      ]
    },
    {
      "cell_type": "code",
      "source": [
        "x_train.shape"
      ],
      "metadata": {
        "colab": {
          "base_uri": "https://localhost:8080/"
        },
        "id": "dXS_Ohx_rLo3",
        "outputId": "92e831b4-f493-445f-9db6-c902caaaafad"
      },
      "execution_count": 104,
      "outputs": [
        {
          "output_type": "execute_result",
          "data": {
            "text/plain": [
              "(27455, 784)"
            ]
          },
          "metadata": {},
          "execution_count": 104
        }
      ]
    },
    {
      "cell_type": "code",
      "execution_count": 105,
      "metadata": {
        "code_folding": [],
        "id": "nHcqsOS0kDN1"
      },
      "outputs": [],
      "source": [
        "def split_val_test(x, y, pct=0.5, shuffle=True):\n",
        "    '''\n",
        "    Create a function that will allow you to split the previously loaded validation set\n",
        "    into validation and test.\n",
        "    '''\n",
        "    #We take the index of the images\n",
        "    idxs = np.arange(x.shape[0])\n",
        "    if(shuffle):\n",
        "      #We need to shuffle those indexes\n",
        "      np.random.shuffle(idxs)\n",
        "    #We split our data based on the percentage indicated by pct\n",
        "    #Considering pct to be the percentage of data destinated to validation\n",
        "    split_point = int(y.shape[0]*pct)\n",
        "    x_val = x[idxs[:split_point]]\n",
        "    y_val = y[idxs[:split_point]]\n",
        "    x_test = x[idxs[split_point:]]\n",
        "    y_test = y[idxs[split_point:]]\n",
        "    return x_val,y_val,x_test,y_test\n"
      ]
    },
    {
      "cell_type": "code",
      "execution_count": 106,
      "metadata": {
        "id": "6yHgNPkxkDN1"
      },
      "outputs": [],
      "source": [
        "x_val, y_val, x_test, y_test = split_val_test(x_val, y_val)"
      ]
    },
    {
      "cell_type": "code",
      "execution_count": 107,
      "metadata": {
        "colab": {
          "base_uri": "https://localhost:8080/"
        },
        "id": "XrV1ILLLkDN1",
        "outputId": "2775339b-2bfa-479f-e296-d4386d091858"
      },
      "outputs": [
        {
          "output_type": "stream",
          "name": "stdout",
          "text": [
            "['a', 'b', 'c', 'd', 'e', 'f', 'g', 'h', 'i', 'j', 'k', 'l', 'm', 'n', 'o', 'p', 'q', 'r', 's', 't', 'u', 'v', 'w', 'x', 'y', 'z']\n",
            "24\n"
          ]
        }
      ],
      "source": [
        "### The following\n",
        "alphabet=list(string.ascii_lowercase)\n",
        "print(alphabet)\n",
        "alphabet.remove('j')\n",
        "alphabet.remove('z')\n",
        "print(len(alphabet))"
      ]
    },
    {
      "cell_type": "markdown",
      "metadata": {
        "id": "TJnBSLB9kDN1"
      },
      "source": [
        "### Normalise\n",
        "We apply a straightforward normalization method, which involves dividing each pixel by the maximum possible value it can take."
      ]
    },
    {
      "cell_type": "code",
      "source": [
        "x_train = x_train/255\n",
        "x_val = x_val/255\n",
        "x_test = x_test/255"
      ],
      "metadata": {
        "id": "wcuSi78J06gI"
      },
      "execution_count": 108,
      "outputs": []
    },
    {
      "cell_type": "markdown",
      "metadata": {
        "id": "XA76nWptkDN2"
      },
      "source": [
        "### Graph images"
      ]
    },
    {
      "cell_type": "code",
      "source": [
        "def showImage(image):\n",
        "  #The images are already given as one dimensional array\n",
        "  #So we need to reshape them\n",
        "  plt.imshow(image.reshape(28,28),cmap=plt.get_cmap('gray'))\n",
        "\n",
        "#We define a random index for graphing a random instance of the data\n",
        "randIdx = np.random.randint(y_train.shape[0])\n",
        "print(\"Sign shown: \",alphabet[y_train[randIdx]])\n",
        "showImage(x_train[randIdx].reshape(28,28))"
      ],
      "metadata": {
        "colab": {
          "base_uri": "https://localhost:8080/",
          "height": 448
        },
        "id": "Il3Q089q2_5e",
        "outputId": "77465365-a06f-46c6-9b9e-bffc99e55456"
      },
      "execution_count": 109,
      "outputs": [
        {
          "output_type": "stream",
          "name": "stdout",
          "text": [
            "Sign shown:  e\n"
          ]
        },
        {
          "output_type": "display_data",
          "data": {
            "text/plain": [
              "<Figure size 640x480 with 1 Axes>"
            ],
            "image/png": "[encoded data removed]"
          },
          "metadata": {}
        }
      ]
    },
    {
      "cell_type": "markdown",
      "metadata": {
        "id": "KbwSdrDpkDN2"
      },
      "source": [
        "### Equations used for the model\n",
        "\n",
        "\n",
        "$$z^1 = W^1 X + b^1$$\n",
        "\n",
        "$$a^1 = ReLU(z^1) $$\n",
        "\n",
        "$$z^2 = W^2 a^1 + b^2$$\n",
        "\n",
        "$$\\hat{y} = \\frac{e^{z^{2_k}}}{\\sum_j{e^{z_j}}}$$\n",
        "\n",
        "\n",
        "$$ \\mathcal{L}(\\hat{y}^{i}, y^{i}) =  - y^{i}  \\ln(\\hat{y}^{i}) = -\\ln(\\hat{y}^i)$$\n",
        "\n",
        "\n",
        "$$ \\mathcal{J}(w, b) =  \\frac{1}{num\\_samples} \\sum_{i=1}^{num\\_samples}-\\ln(\\hat{y}^{i})$$"
      ]
    },
    {
      "cell_type": "markdown",
      "metadata": {
        "id": "_FgRzEkvkDN2"
      },
      "source": [
        "### Initialization of parameters w and b"
      ]
    },
    {
      "cell_type": "code",
      "source": [
        "def init_parameters(inputSize,neuronsSizeList):\n",
        "  parameters = {}\n",
        "  for i,neuronSize in enumerate(neuronsSizeList):\n",
        "    if(i == 0):\n",
        "      # print('CREATING W0 -- neu Size- inputSize')\n",
        "      # print(neuronSize,inputSize)\n",
        "      parameters[f'w_{i}'] = np.random.randn(neuronSize,inputSize)*0.1\n",
        "    else:\n",
        "      parameters[f'w_{i}'] = np.random.randn(neuronSize,neuronsSizeList[i-1])*0.1\n",
        "\n",
        "    parameters[f'b_{i}'] = np.zeros((neuronSize,1))\n",
        "    # print('CREATING b0 -- neu Size- inputSize')\n",
        "    # print(parameters[f'b_{i}'].shape)\n",
        "  # print('Init Params')\n",
        "  # print(parameters)\n",
        "  return parameters"
      ],
      "metadata": {
        "id": "OePaAHulBX6v"
      },
      "execution_count": 110,
      "outputs": []
    },
    {
      "cell_type": "markdown",
      "metadata": {
        "id": "VBPxKryykDN2"
      },
      "source": [
        "# Function for creating mini batches\n",
        "This function is designed to facilitate the creation of mini-batches from a given dataset. The createMiniBatches function returns a generator object that yields mini-batches of data when iterated over. This can be used as the parameter to a loop"
      ]
    },
    {
      "cell_type": "code",
      "execution_count": 111,
      "metadata": {
        "id": "zU5s6qLWkDN2"
      },
      "outputs": [],
      "source": [
        "def createMiniBatches(x,y,shuffled=True,miniBatchSize=50):\n",
        "  dataSize = y.shape[0]\n",
        "  idxs = np.arange(dataSize)\n",
        "  if(shuffled):\n",
        "    np.random.shuffle(idxs)\n",
        "  x = x[idxs]\n",
        "  y = y[idxs]\n",
        "  return ((x[i:i+miniBatchSize],y[i:i+miniBatchSize])for i in range(0,dataSize,miniBatchSize))"
      ]
    },
    {
      "cell_type": "markdown",
      "source": [
        "#We use ReLu as our activation function"
      ],
      "metadata": {
        "id": "rr2-cYnZ9mku"
      }
    },
    {
      "cell_type": "code",
      "source": [
        "def reLu(val):\n",
        "  return np.maximum(0.01 * val, val)"
      ],
      "metadata": {
        "id": "XMlQ8iRIEN0E"
      },
      "execution_count": 112,
      "outputs": []
    },
    {
      "cell_type": "markdown",
      "source": [
        "\n",
        "#Layer Output Computation Function\n",
        "This function computes both the linear equation outputs (denoted as 'z') and the neuron values after applying the specified activation function."
      ],
      "metadata": {
        "id": "xyiuHct_9xFf"
      }
    },
    {
      "cell_type": "code",
      "source": [
        "def computeScores(x,activationFunction,parameters):\n",
        "  outputLayers = {}\n",
        "  for i in range(len(parameters)//2):\n",
        "    if(i==0):\n",
        "      outputLayers[f'z_{i}'] =  parameters[f'w_{i}'] @ x.T + parameters[f'b_{i}']\n",
        "    else:\n",
        "      outputLayers[f'z_{i}'] = parameters[f'w_{i}'] @ outputLayers[f'a_{i-1}'] + parameters[f'b_{i}']\n",
        "    outputLayers[f'a_{i}'] = activationFunction(outputLayers[f'z_{i}'])\n",
        "  return outputLayers"
      ],
      "metadata": {
        "id": "FqOZiNazIq2f"
      },
      "execution_count": 113,
      "outputs": []
    },
    {
      "cell_type": "markdown",
      "source": [
        "# Softmax Activation Function\n",
        "\n",
        "In the final layer, we apply the softmax activation function. This transformation converts the raw scores produced by our network into probability distributions, enabling us to interpret the network's outputs as class probabilities."
      ],
      "metadata": {
        "id": "9wi0tlq4-VFp"
      }
    },
    {
      "cell_type": "code",
      "source": [
        "def softmax(lastLayerOutput):\n",
        "  return np.exp(lastLayerOutput)/np.sum(np.exp(lastLayerOutput),axis=0)"
      ],
      "metadata": {
        "id": "5oKvySo1Lu2J"
      },
      "execution_count": 114,
      "outputs": []
    },
    {
      "cell_type": "markdown",
      "source": [
        "#Cross Entropy\n",
        "We use cross entropy to compute the Loss of our model"
      ],
      "metadata": {
        "id": "JBUOqR5S_cba"
      }
    },
    {
      "cell_type": "code",
      "source": [
        "def x_entropy(probabilities, y,batchSize):\n",
        "  y_prob = probabilities[y.squeeze(),np.arange(y.shape[0])]\n",
        "  cost = np.sum(-np.log(y_prob))/batchSize\n",
        "  return cost"
      ],
      "metadata": {
        "id": "t2LU3Ub-QH7D"
      },
      "execution_count": 115,
      "outputs": []
    },
    {
      "cell_type": "markdown",
      "source": [
        "\n",
        "#Gradient Computation Function\n",
        "This function initiates the backpropagation process by first calculating layer scores and then proceeds to compute gradients for weight and bias parameters, along with gradients for activation functions (both 'a' and 'z'). Notably, these gradients are interconnected through the chain rule, reflecting their dependencies in the neural network's gradient flow."
      ],
      "metadata": {
        "id": "xmpjk0euAQLI"
      }
    },
    {
      "cell_type": "code",
      "source": [
        "def computeGradients(x,y,parameters,batchSize,computedScores):\n",
        "  gradients = {}\n",
        "  #Notice that we start counting layers from 0\n",
        "  lastLayerIDX = len(parameters)//2 - 1\n",
        "  scores = computedScores[f'z_{lastLayerIDX}']\n",
        "  probs = softmax(scores)\n",
        "  probs[y.squeeze(),np.arange(y.shape[0])] -= 1 # y-hat -y\n",
        "  for i in range(lastLayerIDX,-1,-1):\n",
        "    #Compute gradient of last layer\n",
        "    if(i == lastLayerIDX):\n",
        "      gradients[f'dz_{i}'] = probs.copy()\n",
        "      gradients[f'dw_{i}'] = gradients[f'dz_{i}'] @ computedScores[f'a_{i-1}'].T/batchSize\n",
        "      gradients[f'db_{i}'] = np.sum(gradients[f'dz_{i}'],axis=1, keepdims = True)/batchSize\n",
        "    else:\n",
        "      gradients[f'da_{i}'] = parameters[f'w_{i+1}'].T @ gradients[f'dz_{i+1}']\n",
        "      activatedLayer = gradients[f'da_{i}'].copy()\n",
        "      activatedLayer[computedScores[f'z_{i}']<=0] = 0\n",
        "      gradients[f'dz_{i}'] = activatedLayer\n",
        "      if(i !=0):\n",
        "        gradients[f'dw_{i}'] = gradients[f'dz_{i}'] @ computedScores[f'a_{i-1}'].T\n",
        "      else:\n",
        "        gradients[f'dw_{i}'] = gradients[f'dz_{i}'] @ x\n",
        "      gradients[f'db_{i}'] = np.sum(gradients[f'dz_{i}'],axis=1, keepdims = True)\n",
        "  return gradients"
      ],
      "metadata": {
        "id": "Bv-0ZueCSraR"
      },
      "execution_count": 116,
      "outputs": []
    },
    {
      "cell_type": "markdown",
      "source": [
        "#Update parameters\n",
        "This function utilizes the gradients calculated during the initial phase of backpropagation to adjust the weight and bias values, applying a specified learning rate to modulate the magnitude of these updates for each parameter."
      ],
      "metadata": {
        "id": "H_7cOShuC8g3"
      }
    },
    {
      "cell_type": "code",
      "source": [
        "def updateParameters(parameters,learningRate,gradients):\n",
        "  newParameters = parameters.copy()\n",
        "\n",
        "  for i in range(len(parameters)//2):\n",
        "    newParameters[f'w_{i}'] = parameters[f'w_{i}'] - learningRate * gradients[f'dw_{i}']\n",
        "    newParameters[f'b_{i}'] = parameters[f'b_{i}'] - learningRate * gradients[f'db_{i}']\n",
        "  return newParameters"
      ],
      "metadata": {
        "id": "bZvRjMFmoG1D"
      },
      "execution_count": 117,
      "outputs": []
    },
    {
      "cell_type": "markdown",
      "source": [
        "#Auxiliar functions\n",
        "Functions for evaluating the performance of the model"
      ],
      "metadata": {
        "id": "Ho2E8nE5EQQf"
      }
    },
    {
      "cell_type": "code",
      "source": [
        "def predict(x, parameters, activationFunction):\n",
        "    computedScores = computeScores(x, activationFunction, parameters)\n",
        "    lastLayerIDX = len(parameters) // 2 - 1\n",
        "    scores = computedScores[f'z_{lastLayerIDX}']\n",
        "    probabilities = softmax(scores)\n",
        "    predictions = np.argmax(probabilities, axis=0)\n",
        "    return predictions"
      ],
      "metadata": {
        "id": "r5rSZR2T1XDJ"
      },
      "execution_count": 118,
      "outputs": []
    },
    {
      "cell_type": "code",
      "source": [
        "def evaluate(x_test, y_test, parameters, activationFunction):\n",
        "    predictions = predict(x_test, parameters, activationFunction)\n",
        "    accuracy = np.mean(predictions == y_test.squeeze()) * 100\n",
        "    return accuracy\n"
      ],
      "metadata": {
        "id": "aCbKcQyS1dAh"
      },
      "execution_count": 119,
      "outputs": []
    },
    {
      "cell_type": "markdown",
      "source": [
        "#Model Training\n",
        "The training process encompasses several key steps, beginning with score computation for each layer, followed by parameter and activation gradient calculations, and concludes with parameter updates. Additionally, the model's accuracy is evaluated after each epoch using both training and validation datasets to gauge its performance."
      ],
      "metadata": {
        "id": "jN_PrB52EcPH"
      }
    },
    {
      "cell_type": "code",
      "source": [
        "def train(x_train,y_train,batchSize,neuronsSizeList,activationFunction,learningRate,epochs):\n",
        "  #Initialize the parameters\n",
        "  parameters = init_parameters(x_train.shape[1],neuronsSizeList)\n",
        "  #Create the miniBatches\n",
        "  miniBatches = list(createMiniBatches(x_train,y_train,batchSize))\n",
        "  for epoch in range(epochs):\n",
        "    correct = 0\n",
        "    total = 0\n",
        "    lastLayerIDX = len(parameters)//2 - 1\n",
        "    for i , (x,y) in enumerate(miniBatches):\n",
        "      outAZs = computeScores(x,activationFunction,parameters)\n",
        "      gradients = computeGradients(x,y,parameters,batchSize,outAZs)\n",
        "      #Update parameters\n",
        "      parameters = updateParameters(parameters,learningRate,gradients)\n",
        "      score = outAZs[f'z_{lastLayerIDX}']\n",
        "      probabilities = softmax(score)\n",
        "      correct += np.sum(np.argmax(probabilities,axis=0) == y.squeeze())\n",
        "      total += probabilities.shape[1]\n",
        "    accuracy = correct/total\n",
        "    print(f'Current cost:{x_entropy(probabilities,y,batchSize)}, Accuracy: {(accuracy*100):.2f}%')\n",
        "    print(f'Accuracy of validation: {evaluate(x_val, y_val, parameters, reLu):.2f}%')\n",
        "  return parameters\n"
      ],
      "metadata": {
        "id": "qfSih1f0jk_3"
      },
      "execution_count": 120,
      "outputs": []
    },
    {
      "cell_type": "code",
      "source": [
        "modelParams = train(x_train,y_train,500,[200,200,200,200,200,len(alphabet)],reLu,0.001,10)"
      ],
      "metadata": {
        "colab": {
          "base_uri": "https://localhost:8080/"
        },
        "id": "SSDRiQc7nwI_",
        "outputId": "d0ddac57-2180-4174-c667-8e5bf417a4e2"
      },
      "execution_count": 121,
      "outputs": [
        {
          "output_type": "stream",
          "name": "stdout",
          "text": [
            "Current cost:0.02134512117995113, Accuracy: 28.45%\n",
            "Accuracy of validation: 30.56%\n",
            "Current cost:0.004569556030647787, Accuracy: 55.28%\n",
            "Accuracy of validation: 46.49%\n",
            "Current cost:0.005829045333283849, Accuracy: 71.91%\n",
            "Accuracy of validation: 48.58%\n",
            "Current cost:0.0024446759471941112, Accuracy: 84.49%\n",
            "Accuracy of validation: 52.34%\n",
            "Current cost:0.00022650136935624748, Accuracy: 88.43%\n",
            "Accuracy of validation: 76.72%\n",
            "Current cost:0.00019892305092944043, Accuracy: 93.76%\n",
            "Accuracy of validation: 79.06%\n",
            "Current cost:0.0001436796814184974, Accuracy: 95.00%\n",
            "Accuracy of validation: 79.39%\n",
            "Current cost:7.591647522060485e-05, Accuracy: 99.92%\n",
            "Accuracy of validation: 81.12%\n",
            "Current cost:4.760129821174421e-05, Accuracy: 100.00%\n",
            "Accuracy of validation: 81.62%\n",
            "Current cost:3.662444032797552e-05, Accuracy: 100.00%\n",
            "Accuracy of validation: 81.73%\n"
          ]
        }
      ]
    },
    {
      "cell_type": "code",
      "source": [
        "print(f'Accuracy: {evaluate(x_test, y_test, modelParams, reLu):.2f}%')\n"
      ],
      "metadata": {
        "colab": {
          "base_uri": "https://localhost:8080/"
        },
        "id": "9OG9J4-U1h1X",
        "outputId": "7d7901ec-0982-45ca-d00d-e6c66c249409"
      },
      "execution_count": 122,
      "outputs": [
        {
          "output_type": "stream",
          "name": "stdout",
          "text": [
            "Accuracy: 81.93%\n"
          ]
        }
      ]
    },
    {
      "cell_type": "code",
      "source": [
        "idx = np.random.randint(len(y_test))\n",
        "showImage(x_test[idx])\n",
        "\n",
        "# Ensure x_test[idx] is a 2D array with a single row\n",
        "single_example = x_test[idx].reshape(1, -1)\n",
        "\n",
        "# Get the prediction using the predict function\n",
        "pred = predict(single_example, modelParams, reLu)\n",
        "\n",
        "# Since predict returns predictions for all examples (even though there's just one),\n",
        "# take the first (and only) prediction from the result.\n",
        "pred_label = pred[0]\n",
        "\n",
        "print(f'The predicted value is: {alphabet[pred_label]} The real value is: {alphabet[y_test[idx]]}')"
      ],
      "metadata": {
        "colab": {
          "base_uri": "https://localhost:8080/",
          "height": 448
        },
        "id": "E128LMOl1-pK",
        "outputId": "064ccca5-5b75-43d6-d720-a8e5a55033b0"
      },
      "execution_count": 123,
      "outputs": [
        {
          "output_type": "stream",
          "name": "stdout",
          "text": [
            "The predicted value is: c The real value is: c\n"
          ]
        },
        {
          "output_type": "display_data",
          "data": {
            "text/plain": [
              "<Figure size 640x480 with 1 Axes>"
            ],
            "image/png": "[encoded data removed]"
          },
          "metadata": {}
        }
      ]
    }
  ],
  "metadata": {
    "kernelspec": {
      "display_name": "Python 3 (ipykernel)",
      "language": "python",
      "name": "python3"
    },
    "language_info": {
      "codemirror_mode": {
        "name": "ipython",
        "version": 3
      },
      "file_extension": ".py",
      "mimetype": "text/x-python",
      "name": "python",
      "nbconvert_exporter": "python",
      "pygments_lexer": "ipython3",
      "version": "3.9.0"
    },
    "toc": {
      "base_numbering": 1,
      "nav_menu": {},
      "number_sections": true,
      "sideBar": true,
      "skip_h1_title": false,
      "title_cell": "Table of Contents",
      "title_sidebar": "Contents",
      "toc_cell": false,
      "toc_position": {},
      "toc_section_display": true,
      "toc_window_display": false
    },
    "varInspector": {
      "cols": {
        "lenName": 16,
        "lenType": 16,
        "lenVar": 40
      },
      "kernels_config": {
        "python": {
          "delete_cmd_postfix": "",
          "delete_cmd_prefix": "del ",
          "library": "var_list.py",
          "varRefreshCmd": "print(var_dic_list())"
        },
        "r": {
          "delete_cmd_postfix": ") ",
          "delete_cmd_prefix": "rm(",
          "library": "var_list.r",
          "varRefreshCmd": "cat(var_dic_list()) "
        }
      },
      "types_to_exclude": [
        "module",
        "function",
        "builtin_function_or_method",
        "instance",
        "_Feature"
      ],
      "window_display": false
    },
    "colab": {
      "provenance": [],
      "include_colab_link": true
    }
  },
  "nbformat": 4,
  "nbformat_minor": 0
}